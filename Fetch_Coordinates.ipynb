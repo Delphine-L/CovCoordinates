{
 "cells": [
  {
   "cell_type": "markdown",
   "metadata": {},
   "source": [
    "Select the gene of interest, the species you want to compare, and the position of the residue."
   ]
  },
  {
   "cell_type": "code",
   "execution_count": 1,
   "metadata": {},
   "outputs": [],
   "source": [
    "import ipywidgets as widgets\n",
    "from ipywidgets import interact, interactive, fixed, interact_manual\n",
    "import appmode\n",
    "import pandas\n",
    "from ipywidgets import FloatSlider\n",
    "import os\n",
    "from ipywidgets import Button, Layout"
   ]
  },
  {
   "cell_type": "code",
   "execution_count": 2,
   "metadata": {},
   "outputs": [],
   "source": [
    "list_genes=pandas.read_csv(\"Available_genes.tab\", sep=\"\\t\", header=None)\n",
    "list_genes.columns=['Gene', 'File']\n",
    "list_genes=list_genes.set_index('Gene').to_dict('index')\n"
   ]
  },
  {
   "cell_type": "markdown",
   "metadata": {},
   "source": [
    "## Single Residue"
   ]
  },
  {
   "cell_type": "code",
   "execution_count": 16,
   "metadata": {},
   "outputs": [
    {
     "data": {
      "application/vnd.jupyter.widget-view+json": {
       "model_id": "9588c95e7aed47dd9750175544f3ceb9",
       "version_major": 2,
       "version_minor": 0
      },
      "text/plain": [
       "interactive(children=(Dropdown(description='Gene', layout=Layout(align_content='center', height='30px', width=…"
      ]
     },
     "metadata": {},
     "output_type": "display_data"
    }
   ],
   "source": [
    "\n",
    "directory = widgets.Dropdown(options=[\"\"]+list(list_genes.keys()),layout=Layout(width='50%', height='30px', align_content='center'))\n",
    "colonnes = widgets.Dropdown(disabled=False,layout=Layout(width='50%', height='30px', align_content='center'))\n",
    "position = widgets.IntSlider(step=1,disabled=False,layout=Layout(width='80%', height='30px',align_content='center'))\n",
    "\n",
    "# Updates the image options based on directory value\n",
    "def update_columns(*args):\n",
    "    table=pandas.read_csv(list_genes[directory.value]['File'], sep=\"\\t\")\n",
    "    tmp=list(table.columns)\n",
    "    tmp.remove('AA')\n",
    "    colonnes.options = tmp\n",
    "\n",
    "def update_pos(*args):\n",
    "    table=pandas.read_csv(list_genes[directory.value]['File'], sep=\"\\t\")\n",
    "    position.max=int(table[colonnes.value].max())\n",
    "    \n",
    "            \n",
    "directory.observe(update_columns, 'value')\n",
    "colonnes.observe(update_pos, 'value')\n",
    "\n",
    "\n",
    "\n",
    "def show_position(Gene, Species,Position):\n",
    "    if Gene!=\"\":\n",
    "        table=pandas.read_csv(list_genes[Gene]['File'], sep=\"\\t\")\n",
    "        if len(table[table[Species]==Position])==0:\n",
    "            print('No results')\n",
    "        else:\n",
    "            return table[table[Species]==Position]\n",
    "\n",
    "_ = interact(show_position, Gene=directory, Species=colonnes, Position=position)"
   ]
  },
  {
   "cell_type": "markdown",
   "metadata": {},
   "source": [
    "\n",
    "## Region"
   ]
  },
  {
   "cell_type": "code",
   "execution_count": 21,
   "metadata": {},
   "outputs": [
    {
     "data": {
      "application/vnd.jupyter.widget-view+json": {
       "model_id": "25f137b36abd45299e7f065b483592be",
       "version_major": 2,
       "version_minor": 0
      },
      "text/plain": [
       "interactive(children=(Dropdown(description='Gene', layout=Layout(align_content='center', height='30px', width=…"
      ]
     },
     "metadata": {},
     "output_type": "display_data"
    }
   ],
   "source": [
    "\n",
    "directory_reg = widgets.Dropdown(options=[\"\"]+list(list_genes.keys()),layout=Layout(width='50%', height='30px', align_content='center'))\n",
    "colonnes_reg = widgets.Dropdown(disabled=False,layout=Layout(width='50%', height='30px', align_content='center'))\n",
    "start = widgets.IntSlider(step=1,disabled=False,layout=Layout(width='80%', height='30px',align_content='center'))\n",
    "end = widgets.IntSlider(step=1,disabled=False,layout=Layout(width='80%', height='30px',align_content='center'))\n",
    "\n",
    "# Updates the image options based on directory value\n",
    "def update_columns_reg(*args):\n",
    "    table=pandas.read_csv(list_genes[directory_reg.value]['File'], sep=\"\\t\")\n",
    "    tmp=list(table.columns)\n",
    "    tmp.remove('AA')\n",
    "    colonnes_reg.options = tmp\n",
    "\n",
    "def update_start(*args):\n",
    "    table=pandas.read_csv(list_genes[directory_reg.value]['File'], sep=\"\\t\")\n",
    "    start.max=int(table[colonnes_reg.value].max())\n",
    "    start.value=0\n",
    "\n",
    "def update_max_start(*args):\n",
    "    start.max=end.value\n",
    "\n",
    "def update_min_end(*args):\n",
    "    end.min=start.value\n",
    "\n",
    "\n",
    "def update_end(*args):\n",
    "    table=pandas.read_csv(list_genes[directory_reg.value]['File'], sep=\"\\t\")\n",
    "    end.max=int(table[colonnes_reg.value].max())\n",
    "    end.value=int(table[colonnes_reg.value].max())\n",
    "\n",
    "directory_reg.observe(update_columns_reg, 'value')\n",
    "colonnes_reg.observe(update_start, 'value')\n",
    "colonnes_reg.observe(update_end, 'value')\n",
    "end.observe(update_max_start, 'value')\n",
    "start.observe(update_min_end, 'value')\n",
    "\n",
    "\n",
    "\n",
    "def show_position_reg(Gene, Species,Start,End):\n",
    "    if Gene!=\"\":\n",
    "        table=pandas.read_csv(list_genes[Gene]['File'], sep=\"\\t\")\n",
    "        if len(table[(table[Species]>=Start) & (table[Species]<=End)])==0:\n",
    "            print('No results')\n",
    "        else:\n",
    "            return table[(table[Species]>=Start) & (table[Species]<=End)]\n",
    "\n",
    "_ = interact(show_position_reg, Gene=directory_reg, Species=colonnes_reg, Start=start,End=end )\n",
    "\n"
   ]
  },
  {
   "cell_type": "code",
   "execution_count": null,
   "metadata": {},
   "outputs": [],
   "source": []
  }
 ],
 "metadata": {
  "kernelspec": {
   "display_name": "Python 3",
   "language": "python",
   "name": "python3"
  },
  "language_info": {
   "codemirror_mode": {
    "name": "ipython",
    "version": 3
   },
   "file_extension": ".py",
   "mimetype": "text/x-python",
   "name": "python",
   "nbconvert_exporter": "python",
   "pygments_lexer": "ipython3",
   "version": "3.8.3"
  }
 },
 "nbformat": 4,
 "nbformat_minor": 4
}
